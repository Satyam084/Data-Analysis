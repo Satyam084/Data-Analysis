{
 "cells": [
  {
   "cell_type": "markdown",
   "metadata": {},
   "source": [
    "# Problem Statement\n",
    "What are the variables influencing increase in online frauds?"
   ]
  },
  {
   "cell_type": "markdown",
   "metadata": {},
   "source": [
    "# Objective\n",
    "To study and analyze difference between online frauds and transactions happening in India and Estonia"
   ]
  },
  {
   "cell_type": "markdown",
   "metadata": {},
   "source": [
    "# Literature Survey\n",
    "\n",
    "As during the pandemic year of 2020 Indian Banks began shifting more and more towards use online banking systems and methods\n",
    "to the fullest. As a result online transactions that were sarted happening more frequently and highest no. of online payments\n",
    "were recorded in the fy2020. With increase in online transactions there was also an increase in online frauds. In counter\n",
    "to this problem GOI and RBI have made some reforms in the cybersecurity laws of our country which have been proven to be much\n",
    "less effective. As people are still lacking a proper understanding and awareness about the online transaction systems and still\n",
    "not much concerned about it. So, we have done some research about the variables influencing increase in online frauds and \n",
    "what are the measures to reduce the online frauds. As of online transaction data of 2020-21 which has not been released yet so based on other soures we collected what is the expected amount of fraud and transaction."
   ]
  },
  {
   "cell_type": "code",
   "execution_count": 9,
   "metadata": {},
   "outputs": [],
   "source": [
    "#Analysis:-\n",
    "\n",
    "import pandas as pd\n",
    "import matplotlib.pyplot as plt\n",
    "import seaborn as sns"
   ]
  },
  {
   "cell_type": "code",
   "execution_count": 10,
   "metadata": {},
   "outputs": [
    {
     "data": {
      "text/html": [
       "<div>\n",
       "<style scoped>\n",
       "    .dataframe tbody tr th:only-of-type {\n",
       "        vertical-align: middle;\n",
       "    }\n",
       "\n",
       "    .dataframe tbody tr th {\n",
       "        vertical-align: top;\n",
       "    }\n",
       "\n",
       "    .dataframe thead th {\n",
       "        text-align: right;\n",
       "    }\n",
       "</style>\n",
       "<table border=\"1\" class=\"dataframe\">\n",
       "  <thead>\n",
       "    <tr style=\"text-align: right;\">\n",
       "      <th></th>\n",
       "      <th>Year</th>\n",
       "      <th>Frauds</th>\n",
       "      <th>Transaction</th>\n",
       "      <th>Frauds_prp</th>\n",
       "    </tr>\n",
       "  </thead>\n",
       "  <tbody>\n",
       "    <tr>\n",
       "      <th>0</th>\n",
       "      <td>2017</td>\n",
       "      <td>5916</td>\n",
       "      <td>4290000</td>\n",
       "      <td>0.13798</td>\n",
       "    </tr>\n",
       "    <tr>\n",
       "      <th>1</th>\n",
       "      <td>2018</td>\n",
       "      <td>6801</td>\n",
       "      <td>3746000</td>\n",
       "      <td>0.18155</td>\n",
       "    </tr>\n",
       "    <tr>\n",
       "      <th>2</th>\n",
       "      <td>2019</td>\n",
       "      <td>8707</td>\n",
       "      <td>10787000</td>\n",
       "      <td>0.08071</td>\n",
       "    </tr>\n",
       "    <tr>\n",
       "      <th>3</th>\n",
       "      <td>2020</td>\n",
       "      <td>101025</td>\n",
       "      <td>25000000</td>\n",
       "      <td>0.40410</td>\n",
       "    </tr>\n",
       "  </tbody>\n",
       "</table>\n",
       "</div>"
      ],
      "text/plain": [
       "   Year  Frauds  Transaction  Frauds_prp\n",
       "0  2017    5916      4290000     0.13798\n",
       "1  2018    6801      3746000     0.18155\n",
       "2  2019    8707     10787000     0.08071\n",
       "3  2020  101025     25000000     0.40410"
      ]
     },
     "execution_count": 10,
     "metadata": {},
     "output_type": "execute_result"
    }
   ],
   "source": [
    "bw=pd.read_csv('india.csv')\n",
    "bw.__delitem__('Sno')\n",
    "bw.head()"
   ]
  },
  {
   "cell_type": "code",
   "execution_count": 11,
   "metadata": {},
   "outputs": [
    {
     "data": {
      "image/png": "[encoded data removed]",
      "text/plain": [
       "<Figure size 432x288 with 1 Axes>"
      ]
     },
     "metadata": {
      "needs_background": "light"
     },
     "output_type": "display_data"
    }
   ],
   "source": [
    "x=[i for i in bw.Year]\n",
    "h=[i for i in bw.Frauds_prp]\n",
    "plt.bar(x,h)\n",
    "plt.xlabel(\"Year\")\n",
    "plt.ylabel(\"Frauds\")\n",
    "plt.title(\"Online Frauds In India\")\n",
    "plt.show()"
   ]
  },
  {
   "cell_type": "code",
   "execution_count": 12,
   "metadata": {},
   "outputs": [
    {
     "data": {
      "text/plain": [
       "0.9534406777179629"
      ]
     },
     "execution_count": 12,
     "metadata": {},
     "output_type": "execute_result"
    }
   ],
   "source": [
    "#Correlation \n",
    "bw.Frauds.corr(bw.Transaction)"
   ]
  },
  {
   "cell_type": "markdown",
   "metadata": {},
   "source": [
    "As the correlation between STD_Frauds and STD_Transaction is +ve which shows a strong relationship between \n",
    "the Frauds and transactions."
   ]
  },
  {
   "cell_type": "markdown",
   "metadata": {},
   "source": [
    "As we went on researching on the web we found that western countries especially countries in European Union were using online payment methods since 2000 and among all the countries Estonia had reported much less online frauds happening over the years than any other country. So, we thaught to collect their online payment data and do a little analysis then if we can tell same for Estonia for the year 2020 too"
   ]
  },
  {
   "cell_type": "code",
   "execution_count": 13,
   "metadata": {},
   "outputs": [],
   "source": [
    "dw=pd.read_csv('Estonia.csv')"
   ]
  },
  {
   "cell_type": "code",
   "execution_count": 14,
   "metadata": {},
   "outputs": [
    {
     "data": {
      "text/html": [
       "<div>\n",
       "<style scoped>\n",
       "    .dataframe tbody tr th:only-of-type {\n",
       "        vertical-align: middle;\n",
       "    }\n",
       "\n",
       "    .dataframe tbody tr th {\n",
       "        vertical-align: top;\n",
       "    }\n",
       "\n",
       "    .dataframe thead th {\n",
       "        text-align: right;\n",
       "    }\n",
       "</style>\n",
       "<table border=\"1\" class=\"dataframe\">\n",
       "  <thead>\n",
       "    <tr style=\"text-align: right;\">\n",
       "      <th></th>\n",
       "      <th>year</th>\n",
       "      <th>transactions</th>\n",
       "      <th>Frauds</th>\n",
       "      <th>Frauds_prp</th>\n",
       "    </tr>\n",
       "  </thead>\n",
       "  <tbody>\n",
       "    <tr>\n",
       "      <th>0</th>\n",
       "      <td>2017</td>\n",
       "      <td>388246.233</td>\n",
       "      <td>58195.110</td>\n",
       "      <td>14.989227</td>\n",
       "    </tr>\n",
       "    <tr>\n",
       "      <th>1</th>\n",
       "      <td>2018</td>\n",
       "      <td>420606.505</td>\n",
       "      <td>63046.485</td>\n",
       "      <td>14.989422</td>\n",
       "    </tr>\n",
       "    <tr>\n",
       "      <th>2</th>\n",
       "      <td>2019</td>\n",
       "      <td>450022.877</td>\n",
       "      <td>67455.660</td>\n",
       "      <td>14.989384</td>\n",
       "    </tr>\n",
       "    <tr>\n",
       "      <th>3</th>\n",
       "      <td>2020</td>\n",
       "      <td>434423.299</td>\n",
       "      <td>65112.750</td>\n",
       "      <td>14.988319</td>\n",
       "    </tr>\n",
       "  </tbody>\n",
       "</table>\n",
       "</div>"
      ],
      "text/plain": [
       "   year  transactions     Frauds  Frauds_prp\n",
       "0  2017    388246.233  58195.110   14.989227\n",
       "1  2018    420606.505  63046.485   14.989422\n",
       "2  2019    450022.877  67455.660   14.989384\n",
       "3  2020    434423.299  65112.750   14.988319"
      ]
     },
     "execution_count": 14,
     "metadata": {},
     "output_type": "execute_result"
    }
   ],
   "source": [
    "dw.head()"
   ]
  },
  {
   "cell_type": "code",
   "execution_count": 15,
   "metadata": {},
   "outputs": [
    {
     "data": {
      "image/png": "[encoded data removed]",
      "text/plain": [
       "<Figure size 432x288 with 1 Axes>"
      ]
     },
     "metadata": {
      "needs_background": "light"
     },
     "output_type": "display_data"
    }
   ],
   "source": [
    "x=[i for i in dw.year]\n",
    "h=[i for i in dw.Frauds_prp]\n",
    "plt.bar(x,h)\n",
    "plt.xlabel(\"Year\")\n",
    "plt.ylabel(\"Frauds\")\n",
    "plt.title(\"Online Frauds In Estonia\")\n",
    "plt.show()"
   ]
  },
  {
   "cell_type": "markdown",
   "metadata": {},
   "source": [
    "<h1><center>Comparison Analysis Between India and Estonia</center></h1>"
   ]
  },
  {
   "cell_type": "markdown",
   "metadata": {},
   "source": [
    "<table border=\"0\">\n",
    " <tr>\n",
    "    <td><b style=\"font-size:30px\">India</b></td>\n",
    "    <td><b style=\"font-size:30px\">Estonia</b></td>\n",
    " </tr>\n",
    " <tr>\n",
    "    <td>Population-1,391.99 mil</td>\n",
    "    <td>Population-1.33 mil</td>\n",
    " </tr>\n",
    " <tr>\n",
    "     <td>Internet Users-700 mil</td>\n",
    "     <td>Internet Users-1.19 mil</td>\n",
    "    </tr>\n",
    "  <tr>\n",
    "     <td>Using online payment since 2016</td>\n",
    "     <td>Using online payments since 2004</td>\n",
    "    </tr>\n",
    "   <tr>\n",
    "     <td>Using UPI /Rupay payement gateways</td>\n",
    "     <td>Using SEPA(Single Euro Payments Area) payment gateway</td>\n",
    "    </tr>\n",
    "    <tr>\n",
    "     <td>Lack of awareness among masses on how to use online payment methods</td>\n",
    "     <td>People are specifically educated on how to use online payment from a young age</td>\n",
    "    </tr>\n",
    "    <tr>\n",
    "     <td>Dependent on old frameworks and firewalls</td>\n",
    "     <td>Developing the technology and frameworks as per situation demands</td>\n",
    "    </tr>\n",
    "</table>"
   ]
  },
  {
   "cell_type": "markdown",
   "metadata": {},
   "source": [
    "# Variables affecting online transactions and frauds\n"
   ]
  },
  {
   "cell_type": "markdown",
   "metadata": {},
   "source": [
    "1. Awareness:<br>Lack of awareness about online transactions and internet\n",
    "<br>\n",
    "2. Trained Staff:<br> Lack of trained investigating staff in the cybercrime dept\n",
    "<br>\n",
    "3. Resources:<br>Lack of proper resources to pin point and disable the fraud.<br>Lacking in the sufficient online tools to protect from various malware and data or identity thefts.<br>\n",
    "4. Trust of people:<br>Lack of trust in online payment methods and cyber police dept."
   ]
  },
  {
   "cell_type": "markdown",
   "metadata": {},
   "source": [
    "# Conclusion\n",
    "\n",
    "1.People need to be more aware about how to use internet networks and Online payment methods.<br>2.The tools and frameworks used for transactions should be upgraded on regular time period.<br>3.The staff should be trained properly to use the tools effectively in order to detect and disable the fraud in time.<br>4.Reforms in the cyber crime laws to reduce the time between online theft and it's detection.<br>5.Use of more encrypted and advanced firewalls for payment methods."
   ]
  },
  {
   "cell_type": "markdown",
   "metadata": {},
   "source": [
    "# References\n",
    "\n",
    "Reserve Bank of India - Bankwise Volumes in ECS/NEFT/RTGS/Mobile Transactions url(rbi.org.in)<br>Statistics of NPCI - National Payments Corporation of India www.npci.org.in<br>UPI Ecosystem Statistics | NPCI - National Payments Corporation of India www.npci.org.in<br>Eesti Panga statistikamoodul statistika.eestipank.ee<br>Estonia stands out for the high rate of card usage and low rate of fraud | Eesti Pank www.eestipank.ee"
   ]
  },
  {
   "cell_type": "code",
   "execution_count": null,
   "metadata": {},
   "outputs": [],
   "source": []
  }
 ],
 "metadata": {
  "kernelspec": {
   "display_name": "Python 3",
   "language": "python",
   "name": "python3"
  },
  "language_info": {
   "codemirror_mode": {
    "name": "ipython",
    "version": 3
   },
   "file_extension": ".py",
   "mimetype": "text/x-python",
   "name": "python",
   "nbconvert_exporter": "python",
   "pygments_lexer": "ipython3",
   "version": "3.8.5"
  }
 },
 "nbformat": 4,
 "nbformat_minor": 4
}
